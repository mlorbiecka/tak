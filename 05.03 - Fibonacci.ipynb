{
 "cells": [
  {
   "cell_type": "markdown",
   "metadata": {
    "collapsed": true,
    "pycharm": {
     "name": "#%% md\n"
    }
   },
   "source": [
    "___\n",
    "\n",
    "<center><img src='../../BlueSoft_logo.png' width=\"500\" height=\"208\"/></center>\n",
    "\n",
    "___"
   ]
  },
  {
   "cell_type": "markdown",
   "metadata": {},
   "source": [
    "# The Fibonacci sequence\n",
    "\n",
    "The Fibonacci sequence is a famous mathematical pattern credited to Italian mathematician Fibonacci in the 13th century (though others had discovered it even earlier).\n",
    "\n",
    "The sequence begins with 0 and 1, and the next number is always the sum of the previous two numbers. The sequence continues forever:\n",
    "```\n",
    "0, 1, 1, 2, 3, 5, 8, 13, 21, 34, 55, 89, ...\n",
    "```\n",
    "\n",
    "The Fibonacci sequence has applications in music composition, stock market prediction, the pattern of florets in the head of sunflowers, and many other areas.\n",
    "\n",
    "More information about the Fibonacci sequence can be found at [Wikipedia: Fibonacci number](https://en.wikipedia.org/wiki/Fibonacci_number).\n",
    "\n",
    "Programmatically:\n",
    "- `fibonacci(0) = 0`\n",
    "- `fibonacci(1) = 1`\n",
    "- `fibonacci(n) = fibonacci(n-1) + fibonacci(n-2)`\n",
    "\n",
    "Given `n`, return the n-th number in the sequence.\n",
    "\n",
    "Example:\n",
    "\n",
    "```\n",
    "n = 5\n",
    "f = [0, 1, 1, 2, 3, 5, 8]\n",
    "fibonacci(5) = 5\n",
    "```\n",
    "\n",
    "Your task is to write a program that calculates the value of the n-th element of Fibonacci sequence.\n",
    "\n",
    "Sample output for the example above:\n",
    "```\n",
    "5\n",
    "```\n",
    "\n",
    "Constraints:\n",
    "```\n",
    "0 < n <= 30\n",
    "```\n",
    "\n",
    "*Note: The input will always be valid (a positive integer).*\n",
    "\n",
    "## Experimental changes\n",
    "\n",
    "After entering the source code and running it a few times, try making experimental changes to it.\n",
    "\n",
    "You can also try to figure out how to do the following:\n",
    "- Use different starting numbers than 0 and 1.\n",
    "- Create the next number by adding the previous three numbers instead of the previous two."
   ]
  },
  {
   "cell_type": "code",
   "execution_count": 11,
   "metadata": {
    "pycharm": {
     "name": "#%%\n"
    }
   },
   "outputs": [
    {
     "name": "stdout",
     "output_type": "stream",
     "text": [
      "podaj który element ciągu chcesz uzyskać2\n",
      "1\n"
     ]
    }
   ],
   "source": [
    "# Code here\n",
    "def fibonacci(a):\n",
    "    if a<=0:\n",
    "        print(\"podaj a>0\")\n",
    "    elif a==1:\n",
    "        return 0\n",
    "    elif a==2:\n",
    "        return 1\n",
    "    else:\n",
    "        return fibonacci(a-1)+fibonacci(a-2)\n",
    "a=(int(input(\"podaj który element ciągu chcesz uzyskać\")))+1\n",
    "print(fibonacci(a))"
   ]
  },
  {
   "cell_type": "code",
   "execution_count": null,
   "metadata": {},
   "outputs": [],
   "source": []
  },
  {
   "cell_type": "code",
   "execution_count": null,
   "metadata": {},
   "outputs": [],
   "source": []
  }
 ],
 "metadata": {
  "kernelspec": {
   "display_name": "Python 3 (ipykernel)",
   "language": "python",
   "name": "python3"
  },
  "language_info": {
   "codemirror_mode": {
    "name": "ipython",
    "version": 3
   },
   "file_extension": ".py",
   "mimetype": "text/x-python",
   "name": "python",
   "nbconvert_exporter": "python",
   "pygments_lexer": "ipython3",
   "version": "3.9.7"
  }
 },
 "nbformat": 4,
 "nbformat_minor": 1
}
