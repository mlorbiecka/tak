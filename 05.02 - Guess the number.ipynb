{
 "cells": [
  {
   "cell_type": "markdown",
   "metadata": {
    "collapsed": true,
    "pycharm": {
     "name": "#%% md\n"
    }
   },
   "source": [
    "___\n",
    "\n",
    "<center><img src='../../BlueSoft_logo.png' width=\"500\" height=\"208\"/></center>\n",
    "\n",
    "___"
   ]
  },
  {
   "cell_type": "markdown",
   "metadata": {},
   "source": [
    "# Guess the number challenge\n",
    "\n",
    "*Guess the Number* is a classic game for beginners to practice basic programming techniques.\n",
    "\n",
    "In this game, the computer thinks of a random number between `1` and `100`. The player has `10` chances to guess the number.\n",
    "\n",
    "After each guess, the computer tells the player if it was too high or too low.\n",
    "\n",
    "Example:\n",
    "```\n",
    "I drew a number between 1 and 100.\n",
    "\n",
    "You have 10 guesses left. Take a guess.\n",
    "> 50\n",
    "Your guess is too high.\n",
    "\n",
    "You have 9 guesses left. Take a guess.\n",
    "> 25\n",
    "Your guess is too low.\n",
    "\n",
    "You have 8 guesses left. Take a guess.\n",
    "> 37\n",
    "Your guess is too low.\n",
    "\n",
    "You have 7 guesses left. Take a guess.\n",
    "> 42\n",
    "Yay! You guessed my number!\n",
    "```"
   ]
  },
  {
   "cell_type": "markdown",
   "metadata": {
    "pycharm": {
     "name": "#%% md\n"
    }
   },
   "source": [
    "## Experimental changes\n",
    "\n",
    "After entering the source code and running it a few times, try making experimental changes to it.\n",
    "\n",
    "You can also try to figure out how to do the following:\n",
    "- Create a *Guess the Letter* variant that gives hints based on the alphabetical order of the player’s guess.\n",
    "- Make the hints after each guess say *warmer* or *colder* based on the player’s previous guess."
   ]
  },
  {
   "cell_type": "code",
   "execution_count": 6,
   "metadata": {
    "pycharm": {
     "name": "#%%\n"
    }
   },
   "outputs": [
    {
     "name": "stdout",
     "output_type": "stream",
     "text": [
      "zgadnij liczbę50\n",
      "za mała liczba\n",
      "zostało jeszcze 9  prób\n",
      "zgadnij liczbę75\n",
      "za mała liczba\n",
      "zostało jeszcze 8  prób\n",
      "zgadnij liczbę90\n",
      "za duża liczba\n",
      "zostało jeszcze 7  prób\n",
      "zgadnij liczbę85\n",
      "za mała liczba\n",
      "zostało jeszcze 6  prób\n",
      "zgadnij liczbę87\n",
      "za duża liczba\n",
      "zostało jeszcze 5  prób\n",
      "zgadnij liczbę86\n",
      "zgadłeś\n"
     ]
    }
   ],
   "source": [
    "# Code here\n",
    "import random\n",
    "a = random.randint(0,100)\n",
    "i = 9\n",
    "while i>=0:\n",
    "    b = (int(input(\"zgadnij liczbę\")))\n",
    "    if b==a:\n",
    "        print(\"zgadłeś\")\n",
    "        break\n",
    "    elif b<a:\n",
    "        print(\"za mała liczba\")\n",
    "        print(\"zostało jeszcze\", i,\" prób\")\n",
    "    elif b>a:\n",
    "        print(\"za duża liczba\")\n",
    "        print(\"zostało jeszcze\", i,\" prób\")\n",
    "    i-=1"
   ]
  },
  {
   "cell_type": "code",
   "execution_count": null,
   "metadata": {},
   "outputs": [],
   "source": []
  }
 ],
 "metadata": {
  "kernelspec": {
   "display_name": "Python 3 (ipykernel)",
   "language": "python",
   "name": "python3"
  },
  "language_info": {
   "codemirror_mode": {
    "name": "ipython",
    "version": 3
   },
   "file_extension": ".py",
   "mimetype": "text/x-python",
   "name": "python",
   "nbconvert_exporter": "python",
   "pygments_lexer": "ipython3",
   "version": "3.9.7"
  }
 },
 "nbformat": 4,
 "nbformat_minor": 1
}
